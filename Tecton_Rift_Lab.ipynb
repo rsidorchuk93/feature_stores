{
  "cells": [
    {
      "cell_type": "markdown",
      "metadata": {
        "id": "view-in-github",
        "colab_type": "text"
      },
      "source": [
        "<a href=\"https://colab.research.google.com/github/rsidorchuk93/feature_stores/blob/main/Tecton_Rift_Lab.ipynb\" target=\"_parent\"><img src=\"https://colab.research.google.com/assets/colab-badge.svg\" alt=\"Open In Colab\"/></a>"
      ]
    },
    {
      "cell_type": "markdown",
      "source": [
        "# 🧪 Lab: Productionizing Real-Time Features with Tecton and Rift\n",
        "\n",
        "In this lab, we will explore how we can develop and test real-time features for a fraud detecton use case using Tecton and Rift.\n",
        "\n",
        "Rift is Tecton's Python-first compute engine for efficiently computing batch, stream, and real-time features using Python and SQL. With Rift we can develop and test features locally in any Python environment and then productionize with a single step.\n",
        "\n",
        "Let's try it out!"
      ],
      "metadata": {
        "id": "SlsggVTehkiV"
      }
    },
    {
      "cell_type": "markdown",
      "source": [
        "## ⚙️ Install Pre-Reqs\n",
        "\n",
        "Run the following commands to install Tecton and other pre-requisites.\n",
        "\n",
        "**After installation, be sure to restart your session via \"Runtime -> Restart Session\" in the menu above.**"
      ],
      "metadata": {
        "id": "pFUbSoc8hEr_"
      }
    },
    {
      "cell_type": "code",
      "source": [
        "!pip install virtualenv\n",
        "!virtualenv tecton\n",
        "!source tecton/bin/activate\n",
        "!pip install 'tecton[rift]' s3fs fsspec scikit-learn"
      ],
      "metadata": {
        "id": "FkL6Pc_MvE4w"
      },
      "execution_count": null,
      "outputs": []
    },
    {
      "cell_type": "markdown",
      "source": [
        "✅ Restart your session via \"Runtime -> Restart Session\"\n",
        "\n",
        "## 👩‍💻 Log into a Tecton account"
      ],
      "metadata": {
        "id": "YQuFAJBGjbi1"
      }
    },
    {
      "cell_type": "code",
      "execution_count": null,
      "metadata": {
        "id": "GRf76TsNtk0x"
      },
      "outputs": [],
      "source": [
        "import tecton, os, requests, json\n",
        "import pandas as pd\n",
        "from pprint import pprint\n",
        "from tecton import *\n",
        "from tecton.types import *\n",
        "from datetime import datetime, timedelta\n",
        "\n",
        "tecton.set_validation_mode('auto')\n",
        "\n",
        "tecton.login('lab.tecton.ai')"
      ]
    },
    {
      "cell_type": "markdown",
      "metadata": {
        "application/vnd.databricks.v1+cell": {
          "cellMetadata": {
            "byteLimit": 2048000,
            "rowLimit": 10000
          },
          "inputWidgets": {},
          "nuid": "ca360037-6e9e-4fc8-a04f-2d033a3016b6",
          "showTitle": false,
          "title": ""
        },
        "id": "KdIySM8Ztk0y"
      },
      "source": [
        "## 🔎 Examine Raw Data\n",
        "\n",
        "On S3 we have a historical log of a transaction stream representing transactions that users made at different merchants in the last few years.\n",
        "\n",
        "We can use this data to brainstorm streaming features and even test them out with Tecton!"
      ]
    },
    {
      "cell_type": "code",
      "execution_count": 17,
      "metadata": {
        "application/vnd.databricks.v1+cell": {
          "cellMetadata": {
            "byteLimit": 2048000,
            "rowLimit": 10000
          },
          "inputWidgets": {},
          "nuid": "70d8ea68-5713-4bb4-8223-f19e486909e5",
          "showTitle": false,
          "title": ""
        },
        "id": "CZtqdn_gtk0z",
        "outputId": "8a476ab6-2ca4-42f0-ab4e-d27276ed8312",
        "colab": {
          "base_uri": "https://localhost:8080/",
          "height": 424
        }
      },
      "outputs": [
        {
          "output_type": "display_data",
          "data": {
            "text/plain": [
              "                 user_id                    transaction_id        category  \\\n",
              "0      user_884240387242  3eb88afb219c9a10f5130d0b89a13451   gas_transport   \n",
              "1      user_268514844966  72e23b9193f97c2ba654854a66890432        misc_pos   \n",
              "2      user_722584453020  db7a41ce2d16a4452c973418d9e544b1            home   \n",
              "3      user_337750317412  edfc42f7bc4b86d8c142acefb88c4565        misc_pos   \n",
              "4      user_934384811883  93d28b6d2e5afebf9c40304aa709ab29       kids_pets   \n",
              "...                  ...                               ...             ...   \n",
              "33804  user_650387977076  951fca1d5c06841f8a8dc2af9cfdfb7a   entertainment   \n",
              "33805  user_722584453020  5240efa75db0dec37eb43d8f285649df            home   \n",
              "33806  user_394495759023  7f4fb01bf4f4c1174746d1128d7dca65    shopping_pos   \n",
              "33807  user_687958452057  ab5057aca2f336a38e7877d52e30da18            home   \n",
              "33808  user_222506789984  089b92589f5d5cb66b41d3933b7686c3  health_fitness   \n",
              "\n",
              "          amt  is_fraud                             merchant  merch_lat  \\\n",
              "0       68.23         0   fraud_Kutch, Hermiston and Farrell  42.710006   \n",
              "1       32.98         0     fraud_Lehner, Reichert and Mills  39.153572   \n",
              "2        4.50         0     fraud_Koss, Hansen and Lueilwitz  33.033236   \n",
              "3        7.68         0                  fraud_Buckridge PLC  40.682842   \n",
              "4       68.97         1                fraud_Lubowitz-Walter  39.144282   \n",
              "...       ...       ...                                  ...        ...   \n",
              "33804   77.07         1                      fraud_Johns Inc  37.668954   \n",
              "33805   41.01         0                     fraud_Reilly LLC  31.768261   \n",
              "33806    8.07         0  fraud_Bahringer, Schoen and Corkery  30.789731   \n",
              "33807  122.95         0             fraud_Altenwerth-Kilback  41.540639   \n",
              "33808   44.55         0                 fraud_Hamill-D'Amore  40.553726   \n",
              "\n",
              "       merch_long           timestamp  \n",
              "0      -78.338644 2023-06-20 10:26:41  \n",
              "1     -122.364270 2023-06-20 12:57:20  \n",
              "2     -105.745700 2023-06-20 14:49:59  \n",
              "3      -88.808371 2023-06-20 14:50:13  \n",
              "4      -96.125035 2023-06-20 15:55:09  \n",
              "...           ...                 ...  \n",
              "33804 -120.963155 2021-10-29 05:20:40  \n",
              "33805 -107.206737 2021-10-29 05:28:04  \n",
              "33806  -81.583807 2021-10-29 05:39:33  \n",
              "33807  -85.859128 2021-10-29 09:31:12  \n",
              "33808 -111.191087 2021-10-29 09:36:03  \n",
              "\n",
              "[33809 rows x 9 columns]"
            ],
            "text/html": [
              "\n",
              "  <div id=\"df-60609d0d-c9c1-41c6-b577-1f9dde538667\" class=\"colab-df-container\">\n",
              "    <div>\n",
              "<style scoped>\n",
              "    .dataframe tbody tr th:only-of-type {\n",
              "        vertical-align: middle;\n",
              "    }\n",
              "\n",
              "    .dataframe tbody tr th {\n",
              "        vertical-align: top;\n",
              "    }\n",
              "\n",
              "    .dataframe thead th {\n",
              "        text-align: right;\n",
              "    }\n",
              "</style>\n",
              "<table border=\"1\" class=\"dataframe\">\n",
              "  <thead>\n",
              "    <tr style=\"text-align: right;\">\n",
              "      <th></th>\n",
              "      <th>user_id</th>\n",
              "      <th>transaction_id</th>\n",
              "      <th>category</th>\n",
              "      <th>amt</th>\n",
              "      <th>is_fraud</th>\n",
              "      <th>merchant</th>\n",
              "      <th>merch_lat</th>\n",
              "      <th>merch_long</th>\n",
              "      <th>timestamp</th>\n",
              "    </tr>\n",
              "  </thead>\n",
              "  <tbody>\n",
              "    <tr>\n",
              "      <th>0</th>\n",
              "      <td>user_884240387242</td>\n",
              "      <td>3eb88afb219c9a10f5130d0b89a13451</td>\n",
              "      <td>gas_transport</td>\n",
              "      <td>68.23</td>\n",
              "      <td>0</td>\n",
              "      <td>fraud_Kutch, Hermiston and Farrell</td>\n",
              "      <td>42.710006</td>\n",
              "      <td>-78.338644</td>\n",
              "      <td>2023-06-20 10:26:41</td>\n",
              "    </tr>\n",
              "    <tr>\n",
              "      <th>1</th>\n",
              "      <td>user_268514844966</td>\n",
              "      <td>72e23b9193f97c2ba654854a66890432</td>\n",
              "      <td>misc_pos</td>\n",
              "      <td>32.98</td>\n",
              "      <td>0</td>\n",
              "      <td>fraud_Lehner, Reichert and Mills</td>\n",
              "      <td>39.153572</td>\n",
              "      <td>-122.364270</td>\n",
              "      <td>2023-06-20 12:57:20</td>\n",
              "    </tr>\n",
              "    <tr>\n",
              "      <th>2</th>\n",
              "      <td>user_722584453020</td>\n",
              "      <td>db7a41ce2d16a4452c973418d9e544b1</td>\n",
              "      <td>home</td>\n",
              "      <td>4.50</td>\n",
              "      <td>0</td>\n",
              "      <td>fraud_Koss, Hansen and Lueilwitz</td>\n",
              "      <td>33.033236</td>\n",
              "      <td>-105.745700</td>\n",
              "      <td>2023-06-20 14:49:59</td>\n",
              "    </tr>\n",
              "    <tr>\n",
              "      <th>3</th>\n",
              "      <td>user_337750317412</td>\n",
              "      <td>edfc42f7bc4b86d8c142acefb88c4565</td>\n",
              "      <td>misc_pos</td>\n",
              "      <td>7.68</td>\n",
              "      <td>0</td>\n",
              "      <td>fraud_Buckridge PLC</td>\n",
              "      <td>40.682842</td>\n",
              "      <td>-88.808371</td>\n",
              "      <td>2023-06-20 14:50:13</td>\n",
              "    </tr>\n",
              "    <tr>\n",
              "      <th>4</th>\n",
              "      <td>user_934384811883</td>\n",
              "      <td>93d28b6d2e5afebf9c40304aa709ab29</td>\n",
              "      <td>kids_pets</td>\n",
              "      <td>68.97</td>\n",
              "      <td>1</td>\n",
              "      <td>fraud_Lubowitz-Walter</td>\n",
              "      <td>39.144282</td>\n",
              "      <td>-96.125035</td>\n",
              "      <td>2023-06-20 15:55:09</td>\n",
              "    </tr>\n",
              "    <tr>\n",
              "      <th>...</th>\n",
              "      <td>...</td>\n",
              "      <td>...</td>\n",
              "      <td>...</td>\n",
              "      <td>...</td>\n",
              "      <td>...</td>\n",
              "      <td>...</td>\n",
              "      <td>...</td>\n",
              "      <td>...</td>\n",
              "      <td>...</td>\n",
              "    </tr>\n",
              "    <tr>\n",
              "      <th>33804</th>\n",
              "      <td>user_650387977076</td>\n",
              "      <td>951fca1d5c06841f8a8dc2af9cfdfb7a</td>\n",
              "      <td>entertainment</td>\n",
              "      <td>77.07</td>\n",
              "      <td>1</td>\n",
              "      <td>fraud_Johns Inc</td>\n",
              "      <td>37.668954</td>\n",
              "      <td>-120.963155</td>\n",
              "      <td>2021-10-29 05:20:40</td>\n",
              "    </tr>\n",
              "    <tr>\n",
              "      <th>33805</th>\n",
              "      <td>user_722584453020</td>\n",
              "      <td>5240efa75db0dec37eb43d8f285649df</td>\n",
              "      <td>home</td>\n",
              "      <td>41.01</td>\n",
              "      <td>0</td>\n",
              "      <td>fraud_Reilly LLC</td>\n",
              "      <td>31.768261</td>\n",
              "      <td>-107.206737</td>\n",
              "      <td>2021-10-29 05:28:04</td>\n",
              "    </tr>\n",
              "    <tr>\n",
              "      <th>33806</th>\n",
              "      <td>user_394495759023</td>\n",
              "      <td>7f4fb01bf4f4c1174746d1128d7dca65</td>\n",
              "      <td>shopping_pos</td>\n",
              "      <td>8.07</td>\n",
              "      <td>0</td>\n",
              "      <td>fraud_Bahringer, Schoen and Corkery</td>\n",
              "      <td>30.789731</td>\n",
              "      <td>-81.583807</td>\n",
              "      <td>2021-10-29 05:39:33</td>\n",
              "    </tr>\n",
              "    <tr>\n",
              "      <th>33807</th>\n",
              "      <td>user_687958452057</td>\n",
              "      <td>ab5057aca2f336a38e7877d52e30da18</td>\n",
              "      <td>home</td>\n",
              "      <td>122.95</td>\n",
              "      <td>0</td>\n",
              "      <td>fraud_Altenwerth-Kilback</td>\n",
              "      <td>41.540639</td>\n",
              "      <td>-85.859128</td>\n",
              "      <td>2021-10-29 09:31:12</td>\n",
              "    </tr>\n",
              "    <tr>\n",
              "      <th>33808</th>\n",
              "      <td>user_222506789984</td>\n",
              "      <td>089b92589f5d5cb66b41d3933b7686c3</td>\n",
              "      <td>health_fitness</td>\n",
              "      <td>44.55</td>\n",
              "      <td>0</td>\n",
              "      <td>fraud_Hamill-D'Amore</td>\n",
              "      <td>40.553726</td>\n",
              "      <td>-111.191087</td>\n",
              "      <td>2021-10-29 09:36:03</td>\n",
              "    </tr>\n",
              "  </tbody>\n",
              "</table>\n",
              "<p>33809 rows × 9 columns</p>\n",
              "</div>\n",
              "    <div class=\"colab-df-buttons\">\n",
              "\n",
              "  <div class=\"colab-df-container\">\n",
              "    <button class=\"colab-df-convert\" onclick=\"convertToInteractive('df-60609d0d-c9c1-41c6-b577-1f9dde538667')\"\n",
              "            title=\"Convert this dataframe to an interactive table.\"\n",
              "            style=\"display:none;\">\n",
              "\n",
              "  <svg xmlns=\"http://www.w3.org/2000/svg\" height=\"24px\" viewBox=\"0 -960 960 960\">\n",
              "    <path d=\"M120-120v-720h720v720H120Zm60-500h600v-160H180v160Zm220 220h160v-160H400v160Zm0 220h160v-160H400v160ZM180-400h160v-160H180v160Zm440 0h160v-160H620v160ZM180-180h160v-160H180v160Zm440 0h160v-160H620v160Z\"/>\n",
              "  </svg>\n",
              "    </button>\n",
              "\n",
              "  <style>\n",
              "    .colab-df-container {\n",
              "      display:flex;\n",
              "      gap: 12px;\n",
              "    }\n",
              "\n",
              "    .colab-df-convert {\n",
              "      background-color: #E8F0FE;\n",
              "      border: none;\n",
              "      border-radius: 50%;\n",
              "      cursor: pointer;\n",
              "      display: none;\n",
              "      fill: #1967D2;\n",
              "      height: 32px;\n",
              "      padding: 0 0 0 0;\n",
              "      width: 32px;\n",
              "    }\n",
              "\n",
              "    .colab-df-convert:hover {\n",
              "      background-color: #E2EBFA;\n",
              "      box-shadow: 0px 1px 2px rgba(60, 64, 67, 0.3), 0px 1px 3px 1px rgba(60, 64, 67, 0.15);\n",
              "      fill: #174EA6;\n",
              "    }\n",
              "\n",
              "    .colab-df-buttons div {\n",
              "      margin-bottom: 4px;\n",
              "    }\n",
              "\n",
              "    [theme=dark] .colab-df-convert {\n",
              "      background-color: #3B4455;\n",
              "      fill: #D2E3FC;\n",
              "    }\n",
              "\n",
              "    [theme=dark] .colab-df-convert:hover {\n",
              "      background-color: #434B5C;\n",
              "      box-shadow: 0px 1px 3px 1px rgba(0, 0, 0, 0.15);\n",
              "      filter: drop-shadow(0px 1px 2px rgba(0, 0, 0, 0.3));\n",
              "      fill: #FFFFFF;\n",
              "    }\n",
              "  </style>\n",
              "\n",
              "    <script>\n",
              "      const buttonEl =\n",
              "        document.querySelector('#df-60609d0d-c9c1-41c6-b577-1f9dde538667 button.colab-df-convert');\n",
              "      buttonEl.style.display =\n",
              "        google.colab.kernel.accessAllowed ? 'block' : 'none';\n",
              "\n",
              "      async function convertToInteractive(key) {\n",
              "        const element = document.querySelector('#df-60609d0d-c9c1-41c6-b577-1f9dde538667');\n",
              "        const dataTable =\n",
              "          await google.colab.kernel.invokeFunction('convertToInteractive',\n",
              "                                                    [key], {});\n",
              "        if (!dataTable) return;\n",
              "\n",
              "        const docLinkHtml = 'Like what you see? Visit the ' +\n",
              "          '<a target=\"_blank\" href=https://colab.research.google.com/notebooks/data_table.ipynb>data table notebook</a>'\n",
              "          + ' to learn more about interactive tables.';\n",
              "        element.innerHTML = '';\n",
              "        dataTable['output_type'] = 'display_data';\n",
              "        await google.colab.output.renderOutput(dataTable, element);\n",
              "        const docLink = document.createElement('div');\n",
              "        docLink.innerHTML = docLinkHtml;\n",
              "        element.appendChild(docLink);\n",
              "      }\n",
              "    </script>\n",
              "  </div>\n",
              "\n",
              "\n",
              "<div id=\"df-8c1d2718-def9-4def-a418-f43738946a33\">\n",
              "  <button class=\"colab-df-quickchart\" onclick=\"quickchart('df-8c1d2718-def9-4def-a418-f43738946a33')\"\n",
              "            title=\"Suggest charts\"\n",
              "            style=\"display:none;\">\n",
              "\n",
              "<svg xmlns=\"http://www.w3.org/2000/svg\" height=\"24px\"viewBox=\"0 0 24 24\"\n",
              "     width=\"24px\">\n",
              "    <g>\n",
              "        <path d=\"M19 3H5c-1.1 0-2 .9-2 2v14c0 1.1.9 2 2 2h14c1.1 0 2-.9 2-2V5c0-1.1-.9-2-2-2zM9 17H7v-7h2v7zm4 0h-2V7h2v10zm4 0h-2v-4h2v4z\"/>\n",
              "    </g>\n",
              "</svg>\n",
              "  </button>\n",
              "\n",
              "<style>\n",
              "  .colab-df-quickchart {\n",
              "      --bg-color: #E8F0FE;\n",
              "      --fill-color: #1967D2;\n",
              "      --hover-bg-color: #E2EBFA;\n",
              "      --hover-fill-color: #174EA6;\n",
              "      --disabled-fill-color: #AAA;\n",
              "      --disabled-bg-color: #DDD;\n",
              "  }\n",
              "\n",
              "  [theme=dark] .colab-df-quickchart {\n",
              "      --bg-color: #3B4455;\n",
              "      --fill-color: #D2E3FC;\n",
              "      --hover-bg-color: #434B5C;\n",
              "      --hover-fill-color: #FFFFFF;\n",
              "      --disabled-bg-color: #3B4455;\n",
              "      --disabled-fill-color: #666;\n",
              "  }\n",
              "\n",
              "  .colab-df-quickchart {\n",
              "    background-color: var(--bg-color);\n",
              "    border: none;\n",
              "    border-radius: 50%;\n",
              "    cursor: pointer;\n",
              "    display: none;\n",
              "    fill: var(--fill-color);\n",
              "    height: 32px;\n",
              "    padding: 0;\n",
              "    width: 32px;\n",
              "  }\n",
              "\n",
              "  .colab-df-quickchart:hover {\n",
              "    background-color: var(--hover-bg-color);\n",
              "    box-shadow: 0 1px 2px rgba(60, 64, 67, 0.3), 0 1px 3px 1px rgba(60, 64, 67, 0.15);\n",
              "    fill: var(--button-hover-fill-color);\n",
              "  }\n",
              "\n",
              "  .colab-df-quickchart-complete:disabled,\n",
              "  .colab-df-quickchart-complete:disabled:hover {\n",
              "    background-color: var(--disabled-bg-color);\n",
              "    fill: var(--disabled-fill-color);\n",
              "    box-shadow: none;\n",
              "  }\n",
              "\n",
              "  .colab-df-spinner {\n",
              "    border: 2px solid var(--fill-color);\n",
              "    border-color: transparent;\n",
              "    border-bottom-color: var(--fill-color);\n",
              "    animation:\n",
              "      spin 1s steps(1) infinite;\n",
              "  }\n",
              "\n",
              "  @keyframes spin {\n",
              "    0% {\n",
              "      border-color: transparent;\n",
              "      border-bottom-color: var(--fill-color);\n",
              "      border-left-color: var(--fill-color);\n",
              "    }\n",
              "    20% {\n",
              "      border-color: transparent;\n",
              "      border-left-color: var(--fill-color);\n",
              "      border-top-color: var(--fill-color);\n",
              "    }\n",
              "    30% {\n",
              "      border-color: transparent;\n",
              "      border-left-color: var(--fill-color);\n",
              "      border-top-color: var(--fill-color);\n",
              "      border-right-color: var(--fill-color);\n",
              "    }\n",
              "    40% {\n",
              "      border-color: transparent;\n",
              "      border-right-color: var(--fill-color);\n",
              "      border-top-color: var(--fill-color);\n",
              "    }\n",
              "    60% {\n",
              "      border-color: transparent;\n",
              "      border-right-color: var(--fill-color);\n",
              "    }\n",
              "    80% {\n",
              "      border-color: transparent;\n",
              "      border-right-color: var(--fill-color);\n",
              "      border-bottom-color: var(--fill-color);\n",
              "    }\n",
              "    90% {\n",
              "      border-color: transparent;\n",
              "      border-bottom-color: var(--fill-color);\n",
              "    }\n",
              "  }\n",
              "</style>\n",
              "\n",
              "  <script>\n",
              "    async function quickchart(key) {\n",
              "      const quickchartButtonEl =\n",
              "        document.querySelector('#' + key + ' button');\n",
              "      quickchartButtonEl.disabled = true;  // To prevent multiple clicks.\n",
              "      quickchartButtonEl.classList.add('colab-df-spinner');\n",
              "      try {\n",
              "        const charts = await google.colab.kernel.invokeFunction(\n",
              "            'suggestCharts', [key], {});\n",
              "      } catch (error) {\n",
              "        console.error('Error during call to suggestCharts:', error);\n",
              "      }\n",
              "      quickchartButtonEl.classList.remove('colab-df-spinner');\n",
              "      quickchartButtonEl.classList.add('colab-df-quickchart-complete');\n",
              "    }\n",
              "    (() => {\n",
              "      let quickchartButtonEl =\n",
              "        document.querySelector('#df-8c1d2718-def9-4def-a418-f43738946a33 button');\n",
              "      quickchartButtonEl.style.display =\n",
              "        google.colab.kernel.accessAllowed ? 'block' : 'none';\n",
              "    })();\n",
              "  </script>\n",
              "</div>\n",
              "\n",
              "  <div id=\"id_3b7cae15-4f0d-4f5e-ab02-2145ddcc3e31\">\n",
              "    <style>\n",
              "      .colab-df-generate {\n",
              "        background-color: #E8F0FE;\n",
              "        border: none;\n",
              "        border-radius: 50%;\n",
              "        cursor: pointer;\n",
              "        display: none;\n",
              "        fill: #1967D2;\n",
              "        height: 32px;\n",
              "        padding: 0 0 0 0;\n",
              "        width: 32px;\n",
              "      }\n",
              "\n",
              "      .colab-df-generate:hover {\n",
              "        background-color: #E2EBFA;\n",
              "        box-shadow: 0px 1px 2px rgba(60, 64, 67, 0.3), 0px 1px 3px 1px rgba(60, 64, 67, 0.15);\n",
              "        fill: #174EA6;\n",
              "      }\n",
              "\n",
              "      [theme=dark] .colab-df-generate {\n",
              "        background-color: #3B4455;\n",
              "        fill: #D2E3FC;\n",
              "      }\n",
              "\n",
              "      [theme=dark] .colab-df-generate:hover {\n",
              "        background-color: #434B5C;\n",
              "        box-shadow: 0px 1px 3px 1px rgba(0, 0, 0, 0.15);\n",
              "        filter: drop-shadow(0px 1px 2px rgba(0, 0, 0, 0.3));\n",
              "        fill: #FFFFFF;\n",
              "      }\n",
              "    </style>\n",
              "    <button class=\"colab-df-generate\" onclick=\"generateWithVariable('df')\"\n",
              "            title=\"Generate code using this dataframe.\"\n",
              "            style=\"display:none;\">\n",
              "\n",
              "  <svg xmlns=\"http://www.w3.org/2000/svg\" height=\"24px\"viewBox=\"0 0 24 24\"\n",
              "       width=\"24px\">\n",
              "    <path d=\"M7,19H8.4L18.45,9,17,7.55,7,17.6ZM5,21V16.75L18.45,3.32a2,2,0,0,1,2.83,0l1.4,1.43a1.91,1.91,0,0,1,.58,1.4,1.91,1.91,0,0,1-.58,1.4L9.25,21ZM18.45,9,17,7.55Zm-12,3A5.31,5.31,0,0,0,4.9,8.1,5.31,5.31,0,0,0,1,6.5,5.31,5.31,0,0,0,4.9,4.9,5.31,5.31,0,0,0,6.5,1,5.31,5.31,0,0,0,8.1,4.9,5.31,5.31,0,0,0,12,6.5,5.46,5.46,0,0,0,6.5,12Z\"/>\n",
              "  </svg>\n",
              "    </button>\n",
              "    <script>\n",
              "      (() => {\n",
              "      const buttonEl =\n",
              "        document.querySelector('#id_3b7cae15-4f0d-4f5e-ab02-2145ddcc3e31 button.colab-df-generate');\n",
              "      buttonEl.style.display =\n",
              "        google.colab.kernel.accessAllowed ? 'block' : 'none';\n",
              "\n",
              "      buttonEl.onclick = () => {\n",
              "        google.colab.notebook.generateWithVariable('df');\n",
              "      }\n",
              "      })();\n",
              "    </script>\n",
              "  </div>\n",
              "\n",
              "    </div>\n",
              "  </div>\n"
            ]
          },
          "metadata": {}
        }
      ],
      "source": [
        "df = pd.read_parquet(\"s3://tecton.ai.public/tutorials/fraud_demo/transactions/data.pq\", storage_options={'anon': True})\n",
        "\n",
        "display(df)"
      ]
    },
    {
      "cell_type": "markdown",
      "metadata": {
        "application/vnd.databricks.v1+cell": {
          "cellMetadata": {},
          "inputWidgets": {},
          "nuid": "db1ea257-ee04-462e-af92-454d42820bec",
          "showTitle": false,
          "title": ""
        },
        "id": "bdjdca92tk00"
      },
      "source": [
        "## 🌊 Define and Test Streaming Features\n",
        "\n",
        "Streaming features can be tested offline in a notebook and used to train a model. Tecton uses the historical log of a stream to compute accurate historical feature values.\n",
        "\n",
        "✅ Try extending the definition below with more features, such as:\n",
        "\n",
        "- The total dollar amount of transactions a user has made in the last 1 minute, 1 hour, and 1 year.\n",
        "- The total number of transactions a user has made in the last 1 minute, 1 hour, and 1 year.\n",
        "\n",
        "You may find [this documentation](https://docs.tecton.ai/docs/beta/defining-features/feature-views/aggregation-engine/aggregation-functions) helpful."
      ]
    },
    {
      "cell_type": "code",
      "execution_count": null,
      "metadata": {
        "application/vnd.databricks.v1+cell": {
          "cellMetadata": {
            "byteLimit": 2048000,
            "rowLimit": 10000
          },
          "inputWidgets": {},
          "nuid": "b4a3ec27-3483-4358-b830-0ab2677ea9e8",
          "showTitle": false,
          "title": ""
        },
        "id": "5k6iqWl1tk00"
      },
      "outputs": [],
      "source": [
        "# Define a stream source, including the historical log of the stream\n",
        "transactions_stream = StreamSource(\n",
        "    name='transactions_stream',\n",
        "    stream_config=PushConfig(),\n",
        "    batch_config=FileConfig(\n",
        "        uri='s3://tecton.ai.public/tutorials/fraud_demo/transactions/data.pq',\n",
        "        file_format='parquet',\n",
        "        timestamp_field='timestamp'\n",
        "    ),\n",
        "    schema=[Field('user_id', String), Field('timestamp', Timestamp), Field('amt', Float64)]\n",
        ")\n",
        "\n",
        "# Define the entity we are creating features for\n",
        "user = Entity(name='user', join_keys=['user_id'])\n",
        "\n",
        "# Define features\n",
        "@stream_feature_view(\n",
        "    source=transactions_stream,\n",
        "    entities=[user],\n",
        "    mode='pandas',\n",
        "    aggregations=[\n",
        "        Aggregation(function='mean', column='amt', time_window=timedelta(minutes=1)),\n",
        "        Aggregation(function='mean', column='amt', time_window=timedelta(minutes=5)),\n",
        "        Aggregation(function='mean', column='amt', time_window=timedelta(days=365))\n",
        "    ],\n",
        "    schema=[Field(\"user_id\", String), Field(\"timestamp\", Timestamp), Field(\"amt\", Float64)]\n",
        ")\n",
        "def user_transaction_features(transactions):\n",
        "    return transactions[['user_id', 'timestamp', 'amt']]\n",
        "\n",
        "\n",
        "# Compute features\n",
        "start = datetime(2023,1,1)\n",
        "end = datetime(2023,6,1)\n",
        "\n",
        "feature_df = user_transaction_features.get_historical_features(start_time=start, end_time=end).to_pandas()\n",
        "\n",
        "display(feature_df)"
      ]
    },
    {
      "cell_type": "markdown",
      "source": [
        "## ⏱️ Define and Test Real-Time Features\n",
        "\n",
        "Now let's define define a feature that checks if the current transaction amount a user is seeking to make is higher than their historical average.\n",
        "\n",
        "Because this feature depends on real-time info (the current transaction amount), we need to compute it at the time of the request. That's exactly where on-demand features come in.\n",
        "\n",
        "✅ Try changing the definition below to compare the transaction to the 1 year average instead of the 5 minute average."
      ],
      "metadata": {
        "id": "rhqBa92Nep2l"
      }
    },
    {
      "cell_type": "code",
      "source": [
        "# Define on-demand features\n",
        "transaction_request = RequestSource(schema=[Field(\"amt\", Float64)])\n",
        "\n",
        "@on_demand_feature_view(\n",
        "    sources=[transaction_request, user_transaction_features],\n",
        "    mode=\"python\",\n",
        "    schema=[Field(\"transaction_amount_is_higher_than_average\", Bool)],\n",
        ")\n",
        "def transaction_amount_is_higher_than_average(transaction_request, user_transaction_features):\n",
        "    amount_mean = user_transaction_features[\"amt_mean_5m_continuous\"]\n",
        "    amount_mean = 0 if amount_mean is None else amount_mean\n",
        "    return {\"transaction_amount_is_higher_than_average\": transaction_request[\"amt\"] > amount_mean}\n",
        "\n",
        "\n",
        "# Test on-demand features\n",
        "averages = feature_df.drop(columns=['user_id', 'timestamp', '_effective_timestamp']).iloc[0].to_dict()\n",
        "request = {'amt': 10.4}\n",
        "features = transaction_amount_is_higher_than_average.run(user_transaction_features=averages, transaction_request=request)\n",
        "\n",
        "print('\\nRequest amount: ' + str(request['amt']))\n",
        "print('Average: ' + str(averages['amt_mean_5m_continuous']))\n",
        "print(str(features))"
      ],
      "metadata": {
        "id": "ojMVzfG26nRS"
      },
      "execution_count": null,
      "outputs": []
    },
    {
      "cell_type": "markdown",
      "metadata": {
        "application/vnd.databricks.v1+cell": {
          "cellMetadata": {},
          "inputWidgets": {},
          "nuid": "4367e3a5-0942-42d9-81b4-9221cd8b2d97",
          "showTitle": false,
          "title": ""
        },
        "id": "2MH1xogXtk00"
      },
      "source": [
        "## 🧮 Generate Training Data\n",
        "\n",
        "Now that we've created some features, it's time to join them into a training data set so we can train a model.\n",
        "\n",
        "First let's load up a list of historical training events. These events represent labeled historical user transactions."
      ]
    },
    {
      "cell_type": "code",
      "execution_count": null,
      "metadata": {
        "application/vnd.databricks.v1+cell": {
          "cellMetadata": {
            "byteLimit": 2048000,
            "rowLimit": 10000
          },
          "inputWidgets": {},
          "nuid": "3037c380-6a48-4ad6-93af-0e2ae369b9b7",
          "showTitle": false,
          "title": ""
        },
        "id": "JEY5-btgtk01"
      },
      "outputs": [],
      "source": [
        "training_events = pd.read_parquet(\"s3://tecton.ai.public/tutorials/fraud_demo/transactions/data.pq\", storage_options={'anon': True}) \\\n",
        "                    [['user_id', 'timestamp', 'amt', 'is_fraud']]\n",
        "\n",
        "display(training_events)"
      ]
    },
    {
      "cell_type": "markdown",
      "source": [
        "Now that we have our training events, we can get features for those events by adding them to a Feature Service and calling `get_historical_features(events)`.\n",
        "\n",
        "The feature service defines the set of features we want to serve to our model offline and online."
      ],
      "metadata": {
        "id": "3c9EhlkHpjlB"
      }
    },
    {
      "cell_type": "code",
      "execution_count": null,
      "metadata": {
        "application/vnd.databricks.v1+cell": {
          "cellMetadata": {
            "byteLimit": 2048000,
            "rowLimit": 10000
          },
          "inputWidgets": {},
          "nuid": "6cb99278-9306-41f4-9579-d49558bf6546",
          "showTitle": false,
          "title": ""
        },
        "id": "ybav_BHTtk01"
      },
      "outputs": [],
      "source": [
        "from tecton import FeatureService\n",
        "\n",
        "fraud_detection_feature_service = FeatureService(\n",
        "    name=\"fraud_detection_feature_service\",\n",
        "    features=[user_transaction_features, transaction_amount_is_higher_than_average]\n",
        ")\n",
        "\n",
        "training_data = fraud_detection_feature_service.get_historical_features(training_events).to_pandas()\n",
        "\n",
        "display(training_data)"
      ]
    },
    {
      "cell_type": "markdown",
      "source": [
        "## 🧠 Train a Model\n",
        "\n",
        "With a training dataset full of features, we can now train a simple logistic regression model to detect fraudulent transactions."
      ],
      "metadata": {
        "id": "Cuzkl3dQisp3"
      }
    },
    {
      "cell_type": "code",
      "source": [
        "from sklearn.pipeline import make_pipeline\n",
        "from sklearn.impute import SimpleImputer\n",
        "from sklearn.preprocessing import OneHotEncoder, StandardScaler\n",
        "from sklearn.compose import ColumnTransformer\n",
        "from sklearn.linear_model import LogisticRegression\n",
        "from sklearn.model_selection import train_test_split\n",
        "from sklearn import metrics\n",
        "\n",
        "df = training_data.drop(['user_id', 'timestamp', 'amt'], axis=1)\n",
        "\n",
        "X = df.drop('is_fraud', axis=1)\n",
        "y = df['is_fraud']\n",
        "\n",
        "X_train, X_test, y_train, y_test = train_test_split(X, y, test_size=0.3, random_state=42)\n",
        "\n",
        "num_cols = X_train.select_dtypes(exclude=['object']).columns.tolist()\n",
        "cat_cols = X_train.select_dtypes(include=['object']).columns.tolist()\n",
        "\n",
        "num_pipe = make_pipeline(\n",
        "    SimpleImputer(strategy='median'),\n",
        "    StandardScaler()\n",
        ")\n",
        "\n",
        "cat_pipe = make_pipeline(\n",
        "    SimpleImputer(strategy='constant', fill_value='N/A'),\n",
        "    OneHotEncoder(handle_unknown='ignore', sparse_output=False)\n",
        ")\n",
        "\n",
        "full_pipe = ColumnTransformer([\n",
        "    ('num', num_pipe, num_cols),\n",
        "    ('cat', cat_pipe, cat_cols)\n",
        "])\n",
        "\n",
        "model = make_pipeline(full_pipe, LogisticRegression(max_iter=1000, random_state=42))\n",
        "\n",
        "model.fit(X_train,y_train)\n",
        "\n",
        "y_predict = model.predict(X_test)\n",
        "\n",
        "print(model)"
      ],
      "metadata": {
        "id": "rPdMChnoDayD",
        "outputId": "7fa73774-e4f3-414a-b3af-242eb7032b61",
        "colab": {
          "base_uri": "https://localhost:8080/"
        }
      },
      "execution_count": 18,
      "outputs": [
        {
          "output_type": "stream",
          "name": "stdout",
          "text": [
            "Pipeline(steps=[('columntransformer',\n",
            "                 ColumnTransformer(transformers=[('num',\n",
            "                                                  Pipeline(steps=[('simpleimputer',\n",
            "                                                                   SimpleImputer(strategy='median')),\n",
            "                                                                  ('standardscaler',\n",
            "                                                                   StandardScaler())]),\n",
            "                                                  ['user_transaction_features__amt_mean_1m_continuous',\n",
            "                                                   'user_transaction_features__amt_mean_365d_continuous',\n",
            "                                                   'user_transaction_features__amt_mean_5m_continuous',\n",
            "                                                   'transaction_amount_is_higher_than_average__transaction_amount_is_higher_than_average']),\n",
            "                                                 ('cat',\n",
            "                                                  Pipeline(steps=[('simpleimputer',\n",
            "                                                                   SimpleImputer(fill_value='N/A',\n",
            "                                                                                 strategy='constant')),\n",
            "                                                                  ('onehotencoder',\n",
            "                                                                   OneHotEncoder(handle_unknown='ignore',\n",
            "                                                                                 sparse_output=False))]),\n",
            "                                                  [])])),\n",
            "                ('logisticregression',\n",
            "                 LogisticRegression(max_iter=1000, random_state=42))])\n"
          ]
        }
      ]
    },
    {
      "cell_type": "markdown",
      "metadata": {
        "id": "F0xnpaWbtk01"
      },
      "source": [
        "## 🚀 Apply Features to Production\n",
        "\n",
        "**NOTE: This step has been done for you already.**\n",
        "\n",
        "Productionizing features with Tecton is easy. Simply paste the definitions into a repo of Python files, select a workspace, and run `tecton apply to productize\n",
        "\n",
        "Create a feature repo:\n",
        "```bash\n",
        "mkdir feature-repo && cd feature-repo\n",
        "tecton init\n",
        "touch features.py\n",
        "```\n",
        "\n",
        "Apply features to production:\n",
        "```bash\n",
        "tecton login lab.tecton.ai\n",
        "tecton workspace select prod\n",
        "tecton apply\n",
        "```\n",
        "\n",
        "You can check out the applied features in Tecton's web UI [here](https://lab.tecton.ai/app/repo/prod/features).\n"
      ]
    },
    {
      "cell_type": "markdown",
      "metadata": {
        "id": "Wm-D0A-Ptk01"
      },
      "source": [
        "## ⚡️ Ingest Streaming Events and Read Real-Time Features\n",
        "\n",
        "Once we've productionized our Stream Source, we can start sending events to it. Any features defined against this source will be updated in real time!\n",
        "\n",
        "Try adding your own name as the `user_id` below and watch how feature values update immediately."
      ]
    },
    {
      "cell_type": "code",
      "source": [
        "tecton.set_credentials(tecton_api_key='3fcbbfb66c3c4d1a7ce1b9e02f410a1f')\n",
        "os.environ['TECTON_API_KEY'] = '3fcbbfb66c3c4d1a7ce1b9e02f410a1f'"
      ],
      "metadata": {
        "id": "5e44pRLtUt56"
      },
      "execution_count": null,
      "outputs": []
    },
    {
      "cell_type": "code",
      "execution_count": null,
      "metadata": {
        "id": "pOqfHswztk01"
      },
      "outputs": [],
      "source": [
        "ws = tecton.get_workspace('prod')\n",
        "registered_transactions_stream = ws.get_data_source('transactions_stream')"
      ]
    },
    {
      "cell_type": "code",
      "execution_count": null,
      "metadata": {
        "id": "gGAYs7vatk01"
      },
      "outputs": [],
      "source": [
        "registered_transactions_stream.ingest({\n",
        "    'user_id': 'matt-lab',\n",
        "    'timestamp': datetime.utcnow(),\n",
        "    'amt': 100.00\n",
        "})"
      ]
    },
    {
      "cell_type": "code",
      "execution_count": null,
      "metadata": {
        "id": "TRDcCdOetk01"
      },
      "outputs": [],
      "source": [
        "fs = ws.get_feature_service('fraud_detection_feature_service')\n",
        "features = fs.get_online_features(join_keys={'user_id': 'matt-lab'}, request_data={'amt': 50}).to_dict()\n",
        "\n",
        "pprint(features)"
      ]
    },
    {
      "cell_type": "markdown",
      "source": [
        "## 🔥 Define Online Prediction Pipeline\n",
        "\n",
        "Now that we have online feature values, we can create a prediction pipeline to determine if a transaction is fraudulent and whether we should accept or reject it.\n",
        "\n",
        "To do this we will define three functions to:\n",
        "\n",
        "1. Get features from Tecton\n",
        "2. Use the real-time features to make a prediction with the model\n",
        "3. Use the model prediction to accept or reject a transaction"
      ],
      "metadata": {
        "id": "Qs4j0u72GjjZ"
      }
    },
    {
      "cell_type": "code",
      "source": [
        "# Get features from Tecton\n",
        "def get_online_feature_data(user_id, amt):\n",
        "    headers = {\"Authorization\": \"Tecton-key \" + os.environ['TECTON_API_KEY']}\n",
        "\n",
        "    request_data = f'''{{\n",
        "        \"params\": {{\n",
        "            \"feature_service_name\": \"fraud_detection_feature_service\",\n",
        "            \"join_key_map\": {{\"user_id\": \"{user_id}\"}},\n",
        "            \"metadata_options\": {{\"include_names\": true}},\n",
        "            \"request_context_map\": {{\"amt\": {amt}}},\n",
        "            \"workspace_name\": \"prod\"\n",
        "        }}\n",
        "    }}'''\n",
        "\n",
        "    online_feature_data = requests.request(\n",
        "        method=\"POST\",\n",
        "        headers=headers,\n",
        "        url=\"https://lab.tecton.ai/api/v1/feature-service/get-features\",\n",
        "        data=request_data,\n",
        "    )\n",
        "\n",
        "    online_feature_data_json = json.loads(online_feature_data.text)\n",
        "\n",
        "    return online_feature_data_json\n",
        "\n",
        "# Use the real-time features to make a prediction with the model\n",
        "def get_prediction_from_model(feature_data):\n",
        "    columns = [f[\"name\"].replace(\".\", \"__\") for f in feature_data[\"metadata\"][\"features\"]]\n",
        "    data = [feature_data[\"result\"][\"features\"]]\n",
        "\n",
        "    features = pd.DataFrame(data, columns=columns)\n",
        "\n",
        "    return model.predict(features)[0]\n",
        "\n",
        "# Use the model prediction to accept or reject a transaction\n",
        "def evaluate_transaction(user_id, amt):\n",
        "    online_feature_data = get_online_feature_data(user_id, amt)\n",
        "    is_predicted_fraud = get_prediction_from_model(online_feature_data)\n",
        "\n",
        "    print('Features: ' + str(online_feature_data[\"result\"][\"features\"]))\n",
        "    print('Model Score: ' + str(is_predicted_fraud))\n",
        "\n",
        "    if is_predicted_fraud == 0:\n",
        "        print('Transaction accepted.')\n",
        "    else:\n",
        "        print('Transaction denied.')"
      ],
      "metadata": {
        "id": "DsoofOr-NpRM"
      },
      "execution_count": null,
      "outputs": []
    },
    {
      "cell_type": "markdown",
      "source": [
        "## ⭐️ Evaluate Transactions in Real-Time\n",
        "\n",
        "Now we have a single decision API to evaluate transactions in real-time!\n",
        "\n",
        "Let's test it out."
      ],
      "metadata": {
        "id": "s6cJ46vhHSyB"
      }
    },
    {
      "cell_type": "code",
      "source": [
        "evaluate_transaction('matt', 182.46)"
      ],
      "metadata": {
        "id": "7LP2M-xlFiJZ"
      },
      "execution_count": null,
      "outputs": []
    },
    {
      "cell_type": "code",
      "source": [],
      "metadata": {
        "id": "W_VrAwPRSQHq"
      },
      "execution_count": null,
      "outputs": []
    }
  ],
  "metadata": {
    "application/vnd.databricks.v1+notebook": {
      "dashboards": [],
      "language": "python",
      "notebookMetadata": {
        "pythonIndentUnit": 2
      },
      "notebookName": "Tecton Demo",
      "widgets": {}
    },
    "kernelspec": {
      "display_name": "unified-tecton",
      "language": "python",
      "name": "python3"
    },
    "language_info": {
      "codemirror_mode": {
        "name": "ipython",
        "version": 3
      },
      "file_extension": ".py",
      "mimetype": "text/x-python",
      "name": "python",
      "nbconvert_exporter": "python",
      "pygments_lexer": "ipython3",
      "version": "3.9.6"
    },
    "colab": {
      "provenance": [],
      "include_colab_link": true
    }
  },
  "nbformat": 4,
  "nbformat_minor": 0
}